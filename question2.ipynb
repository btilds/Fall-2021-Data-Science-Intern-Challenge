{
 "metadata": {
  "language_info": {
   "codemirror_mode": {
    "name": "ipython",
    "version": 3
   },
   "file_extension": ".py",
   "mimetype": "text/x-python",
   "name": "python",
   "nbconvert_exporter": "python",
   "pygments_lexer": "ipython3",
   "version": "3.7.4"
  },
  "orig_nbformat": 2,
  "kernelspec": {
   "name": "python374jvsc74a57bd0569d6b7e9215e11aba41c6454007e5c1b78bad7df09dab765d8cf00362c40f03",
   "display_name": "Python 3.7.4 64-bit ('miniconda3': virtualenv)"
  }
 },
 "nbformat": 4,
 "nbformat_minor": 2,
 "cells": [
  {
   "source": [
    "## Question 2"
   ],
   "cell_type": "markdown",
   "metadata": {}
  },
  {
   "source": [
    "a.\tHow many orders were shipped by Speedy Express in total?\n"
   ],
   "cell_type": "markdown",
   "metadata": {}
  },
  {
   "source": [
    "SELECT COUNT(*) AS NumberOfOrders\n",
    "FROM [Orders] \n",
    "JOIN [Shippers] \n",
    "\tON [Shippers].ShipperID = [Orders].ShipperID\n",
    "WHERE [Shippers].ShipperName = 'Speedy Express'\n",
    "\n",
    "-\tThe above query will return 54.\n"
   ],
   "cell_type": "markdown",
   "metadata": {}
  },
  {
   "source": [
    "b.\tWhat is the last name of the employee with the most orders?"
   ],
   "cell_type": "markdown",
   "metadata": {}
  },
  {
   "source": [
    "SELECT [Employees].LastName, COUNT(*) AS NumberOfOrders\n",
    "FROM [Orders]\n",
    "JOIN [Employees]\n",
    "\tON [Orders].EmployeeID = [Employees].EmployeeID\n",
    "GROUP BY [Employees].LastName\n",
    "ORDER BY NumberOfOrders DESC\n",
    "LIMIT 1;\n",
    "\n",
    "-\tThe above query will return “Peacock” with 40 orders total."
   ],
   "cell_type": "markdown",
   "metadata": {}
  },
  {
   "source": [
    "c.\tWhat product was ordered the most by customers in Germany?\n"
   ],
   "cell_type": "markdown",
   "metadata": {}
  },
  {
   "source": [
    "SELECT Products.ProductName FROM Orders\n",
    "JOIN Products\n",
    "    ON Products.ProductID = OrderDetails.ProductID\n",
    "JOIN OrderDetails\n",
    "    ON OrderDetails.OrderID = Orders.OrderID\n",
    "JOIN Customers\n",
    "    ON Customers.CustomerID = Orders.CustomerID\n",
    "WHERE [Customers].Country = 'Germany'\n",
    "GROUP BY [OrderDetails].ProductID\n",
    "ORDER BY SUM([OrderDetails].Quantity) DESC \n",
    "LIMIT 1;\n",
    "\n",
    "-\tThe above query will return “Boston Crab Meat”\n"
   ],
   "cell_type": "markdown",
   "metadata": {}
  },
  {
   "cell_type": "code",
   "execution_count": null,
   "metadata": {},
   "outputs": [],
   "source": []
  }
 ]
}